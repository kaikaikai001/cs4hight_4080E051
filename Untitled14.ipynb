{
  "nbformat": 4,
  "nbformat_minor": 0,
  "metadata": {
    "colab": {
      "name": "Untitled14.ipynb",
      "provenance": [],
      "include_colab_link": true
    },
    "kernelspec": {
      "name": "python2",
      "display_name": "Python 2"
    }
  },
  "cells": [
    {
      "cell_type": "markdown",
      "metadata": {
        "id": "view-in-github",
        "colab_type": "text"
      },
      "source": [
        "<a href=\"https://colab.research.google.com/github/kaikaikai001/cs4hight_4080E051/blob/master/Untitled14.ipynb\" target=\"_parent\"><img src=\"https://colab.research.google.com/assets/colab-badge.svg\" alt=\"Open In Colab\"/></a>"
      ]
    },
    {
      "cell_type": "code",
      "metadata": {
        "id": "mekexYhr0WJl",
        "colab_type": "code",
        "colab": {}
      },
      "source": [
        "C:\\Users\\KSUIE>tracert www.ksu.edu\n",
        "\n",
        "在上限 30 個躍點上\n",
        "追蹤 www.ksu.edu [129.130.200.56] 的路由:\n",
        "\n",
        "  1    <1 ms    <1 ms    <1 ms  172.20.155.254\n",
        "  2    <1 ms    <1 ms    <1 ms  172.16.190.253\n",
        "  3    <1 ms    <1 ms    <1 ms  120-114-151-14.ksu.edu.tw [120.114.151.14]\n",
        "  4     *        *        *     要求等候逾時。\n",
        "  5     *        *        *     要求等候逾時。\n",
        "  6     *\n",
        "\n",
        "\n",
        "\n",
        "\n",
        "\n"
      ],
      "execution_count": 0,
      "outputs": []
    }
  ]
}