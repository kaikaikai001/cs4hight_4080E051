{
  "nbformat": 4,
  "nbformat_minor": 0,
  "metadata": {
    "colab": {
      "name": "Untitled0.ipynb",
      "provenance": [],
      "include_colab_link": true
    },
    "kernelspec": {
      "name": "python3",
      "display_name": "Python 3"
    }
  },
  "cells": [
    {
      "cell_type": "markdown",
      "metadata": {
        "id": "view-in-github",
        "colab_type": "text"
      },
      "source": [
        "<a href=\"https://colab.research.google.com/github/kaikaikai001/cs4hight_4080E051/blob/master/chrismansstree.ipynb\" target=\"_parent\"><img src=\"https://colab.research.google.com/assets/colab-badge.svg\" alt=\"Open In Colab\"/></a>"
      ]
    },
    {
      "cell_type": "code",
      "metadata": {
        "id": "o0WQAaF4eBHy",
        "colab_type": "code",
        "colab": {
          "base_uri": "https://localhost:8080/",
          "height": 136
        },
        "outputId": "f5e07157-0984-4318-9b63-56cd7a5224f9"
      },
      "source": [
        "print(\"Hello, MyDearGreatTeacher\")\n",
        "print(\"    *     \")\n",
        "print(\"   ***    \")\n",
        "print(\"  *****   \")\n",
        "print(\" *******  \")\n",
        "print(\"    *     \")\n",
        "print(\"    *     \")"
      ],
      "execution_count": 1,
      "outputs": [
        {
          "output_type": "stream",
          "text": [
            "Hello, MyDearGreatTeacher\n",
            "    *     \n",
            "   ***    \n",
            "  *****   \n",
            " *******  \n",
            "    *     \n",
            "    *     \n"
          ],
          "name": "stdout"
        }
      ]
    }
  ]
}