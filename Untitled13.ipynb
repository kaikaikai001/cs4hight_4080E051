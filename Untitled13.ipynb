{
  "nbformat": 4,
  "nbformat_minor": 0,
  "metadata": {
    "colab": {
      "name": "Untitled13.ipynb",
      "provenance": [],
      "include_colab_link": true
    },
    "kernelspec": {
      "name": "python2",
      "display_name": "Python 2"
    }
  },
  "cells": [
    {
      "cell_type": "markdown",
      "metadata": {
        "id": "view-in-github",
        "colab_type": "text"
      },
      "source": [
        "<a href=\"https://colab.research.google.com/github/kaikaikai001/cs4hight_4080E051/blob/master/Untitled13.ipynb\" target=\"_parent\"><img src=\"https://colab.research.google.com/assets/colab-badge.svg\" alt=\"Open In Colab\"/></a>"
      ]
    },
    {
      "cell_type": "code",
      "metadata": {
        "id": "WlJRQ3AVi8zW",
        "colab_type": "code",
        "colab": {}
      },
      "source": [
        " \"source\": [\n",
        "        \"print(\\\"Hello, MyDearGreatTeacher\\\")\"\n",
        "      ],\n",
        "      \"execution_count\": 1,\n",
        "      \"outputs\": [\n",
        "        {\n",
        "          \"output_type\": \"stream\",\n",
        "          \"text\": [\n",
        "            \"Hello, MyDearGreatTeacher\\n\"\n",
        "          ],\n",
        "          \"name\": \"stdout\"\n",
        "        }\n",
        "      ]\n",
        "    }\n",
        "  ]\n",
        "}"
      ],
      "execution_count": 0,
      "outputs": []
    },
    {
      "cell_type": "code",
      "metadata": {
        "id": "7SsioseGvUtk",
        "colab_type": "code",
        "colab": {}
      },
      "source": [
        "   \"print(\\\"Hello, MyDearGreatTeacher\\\")\\n\",\n",
        "        \"print(\\\"    *     \\\")\\n\",\n",
        "        \"print(\\\"   ***    \\\")\\n\",\n",
        "      \"outputs\": [\n",
        "        {\n",
        "          \"output_type\": \"stream\",\n",
        "          \"text\": [\n",
        "            \"Hello, MyDearGreatTeacher\\n\",\n",
        "            \"    *     \\n\",\n",
        "            \"   ***    \\n\",\n",
        "            \"  *****   \\n\",\n",
        "            \" *******  \\n\",\n",
        "            \"    *     \\n\",\n",
        "            \"    *     \\n\"\n",
        "          ],\n",
        "          \"name\": \"stdout\"\n",
        "        }\n",
        "      ]\n",
        "    }\n",
        "  ]\n",
        "}"
      ],
      "execution_count": 0,
      "outputs": []
    },
    {
      "cell_type": "code",
      "metadata": {
        "id": "aAjNSFJmvc5b",
        "colab_type": "code",
        "colab": {}
      },
      "source": [
        "        \"colab_type\": \"code\",\n",
        "        \"colab\": {}\n",
        "      },\n",
        "      \"source\": [\n",
        "        \"print(\\\"Hello, MyDearGreatTeacher\\\")\"\n",
        "      ],\n",
        "      \"execution_count\": 0,\n",
        "      \"outputs\": []\n",
        "    }\n",
        "  ]\n",
        "}"
      ],
      "execution_count": 0,
      "outputs": []
    },
    {
      "cell_type": "code",
      "metadata": {
        "id": "U4S37gnkvdtK",
        "colab_type": "code",
        "colab": {}
      },
      "source": [
        "       \"print(\\\"Hello, MyDearGreatTeacher\\\")\"\n",
        "      ],\n",
        "      \"execution_count\": 0,\n",
        "      \"outputs\": []\n",
        "    }\n",
        "  ]\n",
        "}"
      ],
      "execution_count": 0,
      "outputs": []
    }
  ]
}