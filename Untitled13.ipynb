{
  "nbformat": 4,
  "nbformat_minor": 0,
  "metadata": {
    "colab": {
      "name": "Untitled13.ipynb",
      "provenance": [],
      "include_colab_link": true
    },
    "kernelspec": {
      "name": "python2",
      "display_name": "Python 2"
    }
  },
  "cells": [
    {
      "cell_type": "markdown",
      "metadata": {
        "id": "view-in-github",
        "colab_type": "text"
      },
      "source": [
        "<a href=\"https://colab.research.google.com/github/kaikaikai001/cs4hight_4080E051/blob/master/Untitled13.ipynb\" target=\"_parent\"><img src=\"https://colab.research.google.com/assets/colab-badge.svg\" alt=\"Open In Colab\"/></a>"
      ]
    },
    {
      "cell_type": "markdown",
      "metadata": {
        "id": "Z00jE7H2wqB7",
        "colab_type": "text"
      },
      "source": [
        "IEEE 802中定義的服務和協定限定在OSI模型的最低兩層（即實體層和資料鏈路層）。\n",
        "\n",
        "IEEE 802將OSI的資料鏈路層分為兩個子層:\n",
        "\n",
        "Layer-2: 資料鏈路層===>  邏輯鏈路控制（LLC, Logical Link Control）\n",
        "                媒介存取控制（MAC, Media Access Control）\n",
        "Layer-1: 實體層\n",
        "IEEE 802.1：高層區域網路協定（Bridging (networking) and Network Management）\n",
        "IEEE 802.2：邏輯鏈路控制（Logical link control）\n",
        "\n",
        "區域網路用的協定:\n",
        "[超級重要]IEEE 802.3：乙太網路（Ethernet）\n",
        "IEEE 802.4：權杖匯流排（Token bus）\n",
        "IEEE 802.5：權杖環（Token-Ring）\n",
        "\n",
        "\n",
        "IEEE 802.6：城域網（MAN, Metropolitan Area Network）\n",
        "IEEE 802.7：寬頻TAG（Broadband LAN using Coaxial Cable）\n",
        "IEEE 802.8：光纖分散式資料介面（FDDI）\n",
        "IEEE 802.9：綜合業務區域網路（Integrated Services LAN）\n",
        "IEEE 802.10：區域網路網路安全（Interoperable LAN Security）\n",
        "[超級重要]IEEE 802.11：無線區域網路（Wireless LAN & Mesh）\n",
        "IEEE 802.12：需求優先級（Demand priority）\n",
        "IEEE 802.13：（未使用）\n",
        "IEEE 802.14：電纜數據機（Cable modems）\n",
        "IEEE 802.15：無線個人區域網路（Wireless PAN）\n",
        "   IEEE 802.15.1：無線個人區域網路絡（WPAN, Wireless Personal Area Network）\n",
        "   IEEE 802.15.4：低速無線個人區域網路絡（LR-WPAN, Low Rate Wireless Personal Area Network）\n",
        "IEEE 802.16：寬頻無線接入（Broadband Wireless Access）\n",
        "IEEE 802.17：彈性封包環傳輸技術（Resilient packet ring）\n",
        "IEEE 802.18：無線電管制技術（Radio Regulatory TAG）\n",
        "IEEE 802.19：共存標籤（Coexistence TAG）\n",
        "IEEE 802.20：移動寬頻無線接入（Mobile Broadband Wireless Access）\n",
        "IEEE 802.21：媒介獨立換手（Media Independent Handover）\n",
        "IEEE 802.22：無線區域網（Wireless Regional Area Network）\n",
        "IEEE 802.23：緊急服務工作群組（Emergency Services Working Group）"
      ]
    }
  ]
}