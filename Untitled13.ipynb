{
  "nbformat": 4,
  "nbformat_minor": 0,
  "metadata": {
    "colab": {
      "name": "Untitled13.ipynb",
      "provenance": [],
      "include_colab_link": true
    },
    "kernelspec": {
      "name": "python2",
      "display_name": "Python 2"
    }
  },
  "cells": [
    {
      "cell_type": "markdown",
      "metadata": {
        "id": "view-in-github",
        "colab_type": "text"
      },
      "source": [
        "<a href=\"https://colab.research.google.com/github/kaikaikai001/cs4hight_4080E051/blob/master/Untitled13.ipynb\" target=\"_parent\"><img src=\"https://colab.research.google.com/assets/colab-badge.svg\" alt=\"Open In Colab\"/></a>"
      ]
    },
    {
      "cell_type": "code",
      "metadata": {
        "id": "WlJRQ3AVi8zW",
        "colab_type": "code",
        "colab": {}
      },
      "source": [
        "C:\\Users\\KSUIE>tracert www.google.com\n",
        "\n",
        "在上限 30 個躍點上\n",
        "追蹤 www.google.com [172.217.24.4] 的路由:\n",
        "\n",
        "  1     1 ms     1 ms    <1 ms  172.20.155.254\n",
        "  2    <1 ms     1 ms     1 ms  172.16.190.253\n",
        "  3    <1 ms    <1 ms    <1 ms  120-114-151-14.ksu.edu.tw [120.114.151.14]\n",
        "  4     *        *        *     要求等候逾時。\n",
        "  5     *        *        *     要求等候逾時。\n",
        "  6     *        *        *     要求等候逾時。\n",
        "  7\n",
        "\n",
        "\n"
      ],
      "execution_count": 0,
      "outputs": []
    }
  ]
}