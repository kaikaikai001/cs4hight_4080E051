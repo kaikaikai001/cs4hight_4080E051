{
  "nbformat": 4,
  "nbformat_minor": 0,
  "metadata": {
    "colab": {
      "name": "Untitled12.ipynb",
      "provenance": [],
      "collapsed_sections": [],
      "include_colab_link": true
    },
    "kernelspec": {
      "name": "python2",
      "display_name": "Python 2"
    }
  },
  "cells": [
    {
      "cell_type": "markdown",
      "metadata": {
        "id": "view-in-github",
        "colab_type": "text"
      },
      "source": [
        "<a href=\"https://colab.research.google.com/github/kaikaikai001/cs4hight_4080E051/blob/master/Untitled12.ipynb\" target=\"_parent\"><img src=\"https://colab.research.google.com/assets/colab-badge.svg\" alt=\"Open In Colab\"/></a>"
      ]
    },
    {
      "cell_type": "code",
      "metadata": {
        "id": "E-VOeT2BguGp",
        "colab_type": "code",
        "colab": {
          "base_uri": "https://localhost:8080/",
          "height": 34
        },
        "outputId": "376c480c-f2f3-4f5a-9609-fec588cb6972"
      },
      "source": [
        "sum=0\n",
        "\n",
        "for x in range(1,101):\n",
        "  sum +=x\n",
        "  \n",
        "print(sum)"
      ],
      "execution_count": 1,
      "outputs": [
        {
          "output_type": "stream",
          "text": [
            "5050\n"
          ],
          "name": "stdout"
        }
      ]
    },
    {
      "cell_type": "code",
      "metadata": {
        "id": "XMT3ed6khjAY",
        "colab_type": "code",
        "colab": {}
      },
      "source": [
        "sum=0\n",
        "\n",
        "for x in range(1,101,2):\n",
        "  sum +=x\n",
        "  \n",
        "print(sum)"
      ],
      "execution_count": 0,
      "outputs": []
    },
    {
      "cell_type": "markdown",
      "metadata": {
        "id": "brsEmIhQh1mf",
        "colab_type": "text"
      },
      "source": [
        "1*3*5*7.....*99"
      ]
    },
    {
      "cell_type": "code",
      "metadata": {
        "id": "qZK04Fjqh2nX",
        "colab_type": "code",
        "colab": {}
      },
      "source": [
        "total=1\n",
        "\n",
        "for x in range(1,101,2):\n",
        "  total *=x\n",
        "  \n",
        "print(total)"
      ],
      "execution_count": 0,
      "outputs": []
    },
    {
      "cell_type": "code",
      "metadata": {
        "id": "LXyuWnIjiCoH",
        "colab_type": "code",
        "colab": {}
      },
      "source": [
        "sum = 0\n",
        "x=1\n",
        "\n",
        "while x < 101:\n",
        "  sum +=x\n",
        "  x = x+1\n",
        "  # x += 1\n",
        "  \n",
        "print(sum)"
      ],
      "execution_count": 0,
      "outputs": []
    },
    {
      "cell_type": "code",
      "metadata": {
        "id": "1HFo2T7DiF4v",
        "colab_type": "code",
        "colab": {}
      },
      "source": [
        "sum = 0\n",
        "x=1\n",
        "\n",
        "while x < 101:\n",
        "  sum +=x\n",
        "  x = x+2\n",
        "  # x += 1\n",
        "  \n",
        "print(sum)"
      ],
      "execution_count": 0,
      "outputs": []
    },
    {
      "cell_type": "code",
      "metadata": {
        "id": "wfLQFL1xiKMH",
        "colab_type": "code",
        "colab": {}
      },
      "source": [
        "total = 1\n",
        "x=1\n",
        "\n",
        "while x < 101:\n",
        "  total *=x\n",
        "  x = x+2     # x += 2\n",
        "  \n",
        "print(total)"
      ],
      "execution_count": 0,
      "outputs": []
    }
  ]
}